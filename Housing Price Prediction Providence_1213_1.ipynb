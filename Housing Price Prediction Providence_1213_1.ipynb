{
 "cells": [
  {
   "cell_type": "code",
   "execution_count": 1,
   "metadata": {},
   "outputs": [],
   "source": [
    "import numpy as np\n",
    "import pandas as pd\n",
    "import matplotlib.pyplot as plt\n",
    "import seaborn as sns\n",
    "import mpl_toolkits\n",
    "from scipy.stats import skew,norm\n",
    "\n",
    "import sklearn\n",
    "from sklearn.preprocessing import StandardScaler\n",
    "from sklearn.preprocessing import LabelEncoder \n",
    "from sklearn import metrics \n",
    "from sklearn import preprocessing \n",
    "from sklearn.ensemble import RandomForestRegressor\n",
    "from sklearn import linear_model\n",
    "from sklearn.preprocessing import RobustScaler\n",
    "\n",
    "%matplotlib inline\n",
    "pd.options.display.float_format = '{:.1f}'.format\n",
    "from scipy import stats\n",
    "\n",
    "import tensorflow as tf\n",
    "from tensorflow import keras"
   ]
  },
  {
   "cell_type": "code",
   "execution_count": 2,
   "metadata": {},
   "outputs": [],
   "source": [
    "def display(pandas):\n",
    "    with pd.set_option('display.max_columns', None, 'display.max_rows', None):\n",
    "        display(pandas)\n",
    "\n"
   ]
  },
  {
   "cell_type": "markdown",
   "metadata": {},
   "source": [
    "### Read  Parcel Data"
   ]
  },
  {
   "cell_type": "code",
   "execution_count": 3,
   "metadata": {
    "scrolled": true
   },
   "outputs": [
    {
     "name": "stderr",
     "output_type": "stream",
     "text": [
      "/opt/anaconda3/lib/python3.7/site-packages/IPython/core/interactiveshell.py:3058: DtypeWarning: Columns (11,12,19,30,54,55,67) have mixed types. Specify dtype option on import or set low_memory=False.\n",
      "  interactivity=interactivity, compiler=compiler, result=result)\n"
     ]
    },
    {
     "data": {
      "text/html": [
       "<div>\n",
       "<style scoped>\n",
       "    .dataframe tbody tr th:only-of-type {\n",
       "        vertical-align: middle;\n",
       "    }\n",
       "\n",
       "    .dataframe tbody tr th {\n",
       "        vertical-align: top;\n",
       "    }\n",
       "\n",
       "    .dataframe thead th {\n",
       "        text-align: right;\n",
       "    }\n",
       "</style>\n",
       "<table border=\"1\" class=\"dataframe\">\n",
       "  <thead>\n",
       "    <tr style=\"text-align: right;\">\n",
       "      <th></th>\n",
       "      <th>OID_</th>\n",
       "      <th>FID_Parcels</th>\n",
       "      <th>map_book</th>\n",
       "      <th>map_page</th>\n",
       "      <th>map_block</th>\n",
       "      <th>lot_num</th>\n",
       "      <th>nc_pin</th>\n",
       "      <th>condo_town_flag</th>\n",
       "      <th>parcel_type</th>\n",
       "      <th>pid</th>\n",
       "      <th>...</th>\n",
       "      <th>FID_HHincome</th>\n",
       "      <th>Total_Households</th>\n",
       "      <th>Median_Household_Income</th>\n",
       "      <th>TotalFamilies</th>\n",
       "      <th>FamiliesInPoverty</th>\n",
       "      <th>FamilyPovertyRate</th>\n",
       "      <th>ORIG_FID</th>\n",
       "      <th>POINT_X</th>\n",
       "      <th>POINT_Y</th>\n",
       "      <th>Divide</th>\n",
       "    </tr>\n",
       "  </thead>\n",
       "  <tbody>\n",
       "    <tr>\n",
       "      <td>0</td>\n",
       "      <td>1</td>\n",
       "      <td>149</td>\n",
       "      <td>221</td>\n",
       "      <td>3</td>\n",
       "      <td>2</td>\n",
       "      <td>40</td>\n",
       "      <td>4438072484</td>\n",
       "      <td>0.0</td>\n",
       "      <td>0.0</td>\n",
       "      <td>22103240</td>\n",
       "      <td>...</td>\n",
       "      <td>-1</td>\n",
       "      <td>0.0</td>\n",
       "      <td>0.0</td>\n",
       "      <td>0.0</td>\n",
       "      <td>0.0</td>\n",
       "      <td>0.0</td>\n",
       "      <td>1</td>\n",
       "      <td>-80.9</td>\n",
       "      <td>35.1</td>\n",
       "      <td>Crescent</td>\n",
       "    </tr>\n",
       "    <tr>\n",
       "      <td>1</td>\n",
       "      <td>2</td>\n",
       "      <td>1960</td>\n",
       "      <td>229</td>\n",
       "      <td>37</td>\n",
       "      <td>2</td>\n",
       "      <td>95</td>\n",
       "      <td>4456981804</td>\n",
       "      <td>0.0</td>\n",
       "      <td>0.0</td>\n",
       "      <td>22937295</td>\n",
       "      <td>...</td>\n",
       "      <td>-1</td>\n",
       "      <td>0.0</td>\n",
       "      <td>0.0</td>\n",
       "      <td>0.0</td>\n",
       "      <td>0.0</td>\n",
       "      <td>0.0</td>\n",
       "      <td>2</td>\n",
       "      <td>-80.8</td>\n",
       "      <td>35.0</td>\n",
       "      <td>Wedge</td>\n",
       "    </tr>\n",
       "    <tr>\n",
       "      <td>2</td>\n",
       "      <td>3</td>\n",
       "      <td>12861</td>\n",
       "      <td>229</td>\n",
       "      <td>43</td>\n",
       "      <td>1</td>\n",
       "      <td>99</td>\n",
       "      <td>4456561498</td>\n",
       "      <td>0.0</td>\n",
       "      <td>0.0</td>\n",
       "      <td>22943199</td>\n",
       "      <td>...</td>\n",
       "      <td>-1</td>\n",
       "      <td>0.0</td>\n",
       "      <td>0.0</td>\n",
       "      <td>0.0</td>\n",
       "      <td>0.0</td>\n",
       "      <td>0.0</td>\n",
       "      <td>3</td>\n",
       "      <td>-80.8</td>\n",
       "      <td>35.0</td>\n",
       "      <td>Wedge</td>\n",
       "    </tr>\n",
       "    <tr>\n",
       "      <td>3</td>\n",
       "      <td>4</td>\n",
       "      <td>18653</td>\n",
       "      <td>217</td>\n",
       "      <td>25</td>\n",
       "      <td>1</td>\n",
       "      <td>15</td>\n",
       "      <td>3498832635</td>\n",
       "      <td>0.0</td>\n",
       "      <td>0.0</td>\n",
       "      <td>21725115</td>\n",
       "      <td>...</td>\n",
       "      <td>-1</td>\n",
       "      <td>0.0</td>\n",
       "      <td>0.0</td>\n",
       "      <td>0.0</td>\n",
       "      <td>0.0</td>\n",
       "      <td>0.0</td>\n",
       "      <td>4</td>\n",
       "      <td>-81.0</td>\n",
       "      <td>35.1</td>\n",
       "      <td>Wedge</td>\n",
       "    </tr>\n",
       "    <tr>\n",
       "      <td>4</td>\n",
       "      <td>5</td>\n",
       "      <td>18654</td>\n",
       "      <td>217</td>\n",
       "      <td>25</td>\n",
       "      <td>1</td>\n",
       "      <td>16</td>\n",
       "      <td>3498836911</td>\n",
       "      <td>0.0</td>\n",
       "      <td>0.0</td>\n",
       "      <td>21725116</td>\n",
       "      <td>...</td>\n",
       "      <td>-1</td>\n",
       "      <td>0.0</td>\n",
       "      <td>0.0</td>\n",
       "      <td>0.0</td>\n",
       "      <td>0.0</td>\n",
       "      <td>0.0</td>\n",
       "      <td>5</td>\n",
       "      <td>-81.0</td>\n",
       "      <td>35.1</td>\n",
       "      <td>Wedge</td>\n",
       "    </tr>\n",
       "    <tr>\n",
       "      <td>...</td>\n",
       "      <td>...</td>\n",
       "      <td>...</td>\n",
       "      <td>...</td>\n",
       "      <td>...</td>\n",
       "      <td>...</td>\n",
       "      <td>...</td>\n",
       "      <td>...</td>\n",
       "      <td>...</td>\n",
       "      <td>...</td>\n",
       "      <td>...</td>\n",
       "      <td>...</td>\n",
       "      <td>...</td>\n",
       "      <td>...</td>\n",
       "      <td>...</td>\n",
       "      <td>...</td>\n",
       "      <td>...</td>\n",
       "      <td>...</td>\n",
       "      <td>...</td>\n",
       "      <td>...</td>\n",
       "      <td>...</td>\n",
       "      <td>...</td>\n",
       "    </tr>\n",
       "    <tr>\n",
       "      <td>427777</td>\n",
       "      <td>427778</td>\n",
       "      <td>410475</td>\n",
       "      <td>43</td>\n",
       "      <td>25</td>\n",
       "      <td>C</td>\n",
       "      <td>99</td>\n",
       "      <td>4567107084</td>\n",
       "      <td>1.0</td>\n",
       "      <td>0.0</td>\n",
       "      <td>04325C99</td>\n",
       "      <td>...</td>\n",
       "      <td>419</td>\n",
       "      <td>290.0</td>\n",
       "      <td>31250.0</td>\n",
       "      <td>171.0</td>\n",
       "      <td>31.0</td>\n",
       "      <td>0.2</td>\n",
       "      <td>428333</td>\n",
       "      <td>-80.8</td>\n",
       "      <td>35.3</td>\n",
       "      <td>Crescent</td>\n",
       "    </tr>\n",
       "    <tr>\n",
       "      <td>427778</td>\n",
       "      <td>427779</td>\n",
       "      <td>410476</td>\n",
       "      <td>43</td>\n",
       "      <td>25</td>\n",
       "      <td>C</td>\n",
       "      <td>99</td>\n",
       "      <td>4567107084</td>\n",
       "      <td>1.0</td>\n",
       "      <td>0.0</td>\n",
       "      <td>04325C99</td>\n",
       "      <td>...</td>\n",
       "      <td>419</td>\n",
       "      <td>290.0</td>\n",
       "      <td>31250.0</td>\n",
       "      <td>171.0</td>\n",
       "      <td>31.0</td>\n",
       "      <td>0.2</td>\n",
       "      <td>428334</td>\n",
       "      <td>-80.8</td>\n",
       "      <td>35.3</td>\n",
       "      <td>Crescent</td>\n",
       "    </tr>\n",
       "    <tr>\n",
       "      <td>427779</td>\n",
       "      <td>427780</td>\n",
       "      <td>410477</td>\n",
       "      <td>43</td>\n",
       "      <td>25</td>\n",
       "      <td>C</td>\n",
       "      <td>99</td>\n",
       "      <td>4567107084</td>\n",
       "      <td>1.0</td>\n",
       "      <td>0.0</td>\n",
       "      <td>04325C99</td>\n",
       "      <td>...</td>\n",
       "      <td>419</td>\n",
       "      <td>290.0</td>\n",
       "      <td>31250.0</td>\n",
       "      <td>171.0</td>\n",
       "      <td>31.0</td>\n",
       "      <td>0.2</td>\n",
       "      <td>428335</td>\n",
       "      <td>-80.8</td>\n",
       "      <td>35.3</td>\n",
       "      <td>Crescent</td>\n",
       "    </tr>\n",
       "    <tr>\n",
       "      <td>427780</td>\n",
       "      <td>427781</td>\n",
       "      <td>410478</td>\n",
       "      <td>43</td>\n",
       "      <td>25</td>\n",
       "      <td>C</td>\n",
       "      <td>99</td>\n",
       "      <td>4567107084</td>\n",
       "      <td>1.0</td>\n",
       "      <td>0.0</td>\n",
       "      <td>04325C99</td>\n",
       "      <td>...</td>\n",
       "      <td>419</td>\n",
       "      <td>290.0</td>\n",
       "      <td>31250.0</td>\n",
       "      <td>171.0</td>\n",
       "      <td>31.0</td>\n",
       "      <td>0.2</td>\n",
       "      <td>428336</td>\n",
       "      <td>-80.8</td>\n",
       "      <td>35.3</td>\n",
       "      <td>Crescent</td>\n",
       "    </tr>\n",
       "    <tr>\n",
       "      <td>427781</td>\n",
       "      <td>427782</td>\n",
       "      <td>410479</td>\n",
       "      <td>43</td>\n",
       "      <td>25</td>\n",
       "      <td>C</td>\n",
       "      <td>99</td>\n",
       "      <td>4567107084</td>\n",
       "      <td>1.0</td>\n",
       "      <td>0.0</td>\n",
       "      <td>04325C99</td>\n",
       "      <td>...</td>\n",
       "      <td>419</td>\n",
       "      <td>290.0</td>\n",
       "      <td>31250.0</td>\n",
       "      <td>171.0</td>\n",
       "      <td>31.0</td>\n",
       "      <td>0.2</td>\n",
       "      <td>428337</td>\n",
       "      <td>-80.8</td>\n",
       "      <td>35.3</td>\n",
       "      <td>Crescent</td>\n",
       "    </tr>\n",
       "  </tbody>\n",
       "</table>\n",
       "<p>427782 rows × 88 columns</p>\n",
       "</div>"
      ],
      "text/plain": [
       "          OID_  FID_Parcels  map_book  map_page map_block  lot_num  \\\n",
       "0            1          149       221         3         2       40   \n",
       "1            2         1960       229        37         2       95   \n",
       "2            3        12861       229        43         1       99   \n",
       "3            4        18653       217        25         1       15   \n",
       "4            5        18654       217        25         1       16   \n",
       "...        ...          ...       ...       ...       ...      ...   \n",
       "427777  427778       410475        43        25         C       99   \n",
       "427778  427779       410476        43        25         C       99   \n",
       "427779  427780       410477        43        25         C       99   \n",
       "427780  427781       410478        43        25         C       99   \n",
       "427781  427782       410479        43        25         C       99   \n",
       "\n",
       "            nc_pin  condo_town_flag  parcel_type       pid  ... FID_HHincome  \\\n",
       "0       4438072484              0.0          0.0  22103240  ...           -1   \n",
       "1       4456981804              0.0          0.0  22937295  ...           -1   \n",
       "2       4456561498              0.0          0.0  22943199  ...           -1   \n",
       "3       3498832635              0.0          0.0  21725115  ...           -1   \n",
       "4       3498836911              0.0          0.0  21725116  ...           -1   \n",
       "...            ...              ...          ...       ...  ...          ...   \n",
       "427777  4567107084              1.0          0.0  04325C99  ...          419   \n",
       "427778  4567107084              1.0          0.0  04325C99  ...          419   \n",
       "427779  4567107084              1.0          0.0  04325C99  ...          419   \n",
       "427780  4567107084              1.0          0.0  04325C99  ...          419   \n",
       "427781  4567107084              1.0          0.0  04325C99  ...          419   \n",
       "\n",
       "       Total_Households Median_Household_Income  TotalFamilies  \\\n",
       "0                   0.0                     0.0            0.0   \n",
       "1                   0.0                     0.0            0.0   \n",
       "2                   0.0                     0.0            0.0   \n",
       "3                   0.0                     0.0            0.0   \n",
       "4                   0.0                     0.0            0.0   \n",
       "...                 ...                     ...            ...   \n",
       "427777            290.0                 31250.0          171.0   \n",
       "427778            290.0                 31250.0          171.0   \n",
       "427779            290.0                 31250.0          171.0   \n",
       "427780            290.0                 31250.0          171.0   \n",
       "427781            290.0                 31250.0          171.0   \n",
       "\n",
       "       FamiliesInPoverty FamilyPovertyRate ORIG_FID POINT_X  POINT_Y    Divide  \n",
       "0                    0.0               0.0        1   -80.9     35.1  Crescent  \n",
       "1                    0.0               0.0        2   -80.8     35.0     Wedge  \n",
       "2                    0.0               0.0        3   -80.8     35.0     Wedge  \n",
       "3                    0.0               0.0        4   -81.0     35.1     Wedge  \n",
       "4                    0.0               0.0        5   -81.0     35.1     Wedge  \n",
       "...                  ...               ...      ...     ...      ...       ...  \n",
       "427777              31.0               0.2   428333   -80.8     35.3  Crescent  \n",
       "427778              31.0               0.2   428334   -80.8     35.3  Crescent  \n",
       "427779              31.0               0.2   428335   -80.8     35.3  Crescent  \n",
       "427780              31.0               0.2   428336   -80.8     35.3  Crescent  \n",
       "427781              31.0               0.2   428337   -80.8     35.3  Crescent  \n",
       "\n",
       "[427782 rows x 88 columns]"
      ]
     },
     "execution_count": 3,
     "metadata": {},
     "output_type": "execute_result"
    }
   ],
   "source": [
    "housing =  pd.read_csv(\"Parceldata.csv\")\n",
    "housing"
   ]
  },
  {
   "cell_type": "markdown",
   "metadata": {},
   "source": [
    "### Check parcel columns "
   ]
  },
  {
   "cell_type": "code",
   "execution_count": 4,
   "metadata": {},
   "outputs": [],
   "source": [
    "#housing.columns"
   ]
  },
  {
   "cell_type": "markdown",
   "metadata": {},
   "source": [
    "### Check count of features for Crescent and Wedge "
   ]
  },
  {
   "cell_type": "code",
   "execution_count": 5,
   "metadata": {},
   "outputs": [
    {
     "data": {
      "text/plain": [
       "<function seaborn.utils.despine(fig=None, ax=None, top=True, right=True, left=False, bottom=False, offset=None, trim=False)>"
      ]
     },
     "execution_count": 5,
     "metadata": {},
     "output_type": "execute_result"
    },
    {
     "data": {
      "image/png": "[encoded data removed]",
      "text/plain": [
       "<Figure size 432x288 with 1 Axes>"
      ]
     },
     "metadata": {
      "needs_background": "light"
     },
     "output_type": "display_data"
    }
   ],
   "source": [
    "housing['Divide'].value_counts().plot(kind='bar')\n",
    "plt.title('Geographic Variation')\n",
    "plt.xlabel('Divide')\n",
    "plt.ylabel('Count')\n",
    "sns.despine"
   ]
  },
  {
   "cell_type": "markdown",
   "metadata": {},
   "source": [
    "### Check number of null values in each of the variables "
   ]
  },
  {
   "cell_type": "code",
   "execution_count": 6,
   "metadata": {},
   "outputs": [],
   "source": [
    "# pd.set_option('display.max_columns', None, 'display.max_rows', None)"
   ]
  },
  {
   "cell_type": "code",
   "execution_count": 7,
   "metadata": {},
   "outputs": [
    {
     "data": {
      "text/plain": [
       "Divide               0.0\n",
       "FID_HHincome         0.0\n",
       "FID_Parcels          0.0\n",
       "FULL_ADDRESS         3.9\n",
       "FamiliesInPoverty    0.0\n",
       "                    ... \n",
       "typeofdeed           8.9\n",
       "units               16.8\n",
       "vacantorimproved     7.7\n",
       "yearbuilt           14.2\n",
       "zipcode              2.9\n",
       "Length: 88, dtype: float64"
      ]
     },
     "execution_count": 7,
     "metadata": {},
     "output_type": "execute_result"
    }
   ],
   "source": [
    "Nullpercent = (housing.isnull().sum()/len(housing))*100\n",
    "Nullpercent.sort_index()"
   ]
  },
  {
   "cell_type": "markdown",
   "metadata": {},
   "source": [
    "#### Drop  variables that have null values over 30%"
   ]
  },
  {
   "cell_type": "code",
   "execution_count": 8,
   "metadata": {},
   "outputs": [],
   "source": [
    "housing = housing.dropna(axis = 1, thresh = 0.70*len(housing))\n",
    "#housing"
   ]
  },
  {
   "cell_type": "markdown",
   "metadata": {},
   "source": [
    "### Create a column for the year "
   ]
  },
  {
   "cell_type": "code",
   "execution_count": 9,
   "metadata": {},
   "outputs": [
    {
     "data": {
      "text/html": [
       "<div>\n",
       "<style scoped>\n",
       "    .dataframe tbody tr th:only-of-type {\n",
       "        vertical-align: middle;\n",
       "    }\n",
       "\n",
       "    .dataframe tbody tr th {\n",
       "        vertical-align: top;\n",
       "    }\n",
       "\n",
       "    .dataframe thead th {\n",
       "        text-align: right;\n",
       "    }\n",
       "</style>\n",
       "<table border=\"1\" class=\"dataframe\">\n",
       "  <thead>\n",
       "    <tr style=\"text-align: right;\">\n",
       "      <th></th>\n",
       "      <th>OID_</th>\n",
       "      <th>FID_Parcels</th>\n",
       "      <th>map_book</th>\n",
       "      <th>map_page</th>\n",
       "      <th>map_block</th>\n",
       "      <th>lot_num</th>\n",
       "      <th>nc_pin</th>\n",
       "      <th>condo_town_flag</th>\n",
       "      <th>parcel_type</th>\n",
       "      <th>pid</th>\n",
       "      <th>...</th>\n",
       "      <th>Total_Households</th>\n",
       "      <th>Median_Household_Income</th>\n",
       "      <th>TotalFamilies</th>\n",
       "      <th>FamiliesInPoverty</th>\n",
       "      <th>FamilyPovertyRate</th>\n",
       "      <th>ORIG_FID</th>\n",
       "      <th>POINT_X</th>\n",
       "      <th>POINT_Y</th>\n",
       "      <th>Divide</th>\n",
       "      <th>Age</th>\n",
       "    </tr>\n",
       "  </thead>\n",
       "  <tbody>\n",
       "    <tr>\n",
       "      <td>0</td>\n",
       "      <td>1</td>\n",
       "      <td>149</td>\n",
       "      <td>221</td>\n",
       "      <td>3</td>\n",
       "      <td>2</td>\n",
       "      <td>40</td>\n",
       "      <td>4438072484</td>\n",
       "      <td>0.0</td>\n",
       "      <td>0.0</td>\n",
       "      <td>22103240</td>\n",
       "      <td>...</td>\n",
       "      <td>0.0</td>\n",
       "      <td>0.0</td>\n",
       "      <td>0.0</td>\n",
       "      <td>0.0</td>\n",
       "      <td>0.0</td>\n",
       "      <td>1</td>\n",
       "      <td>-80.9</td>\n",
       "      <td>35.1</td>\n",
       "      <td>Crescent</td>\n",
       "      <td>42.0</td>\n",
       "    </tr>\n",
       "    <tr>\n",
       "      <td>1</td>\n",
       "      <td>2</td>\n",
       "      <td>1960</td>\n",
       "      <td>229</td>\n",
       "      <td>37</td>\n",
       "      <td>2</td>\n",
       "      <td>95</td>\n",
       "      <td>4456981804</td>\n",
       "      <td>0.0</td>\n",
       "      <td>0.0</td>\n",
       "      <td>22937295</td>\n",
       "      <td>...</td>\n",
       "      <td>0.0</td>\n",
       "      <td>0.0</td>\n",
       "      <td>0.0</td>\n",
       "      <td>0.0</td>\n",
       "      <td>0.0</td>\n",
       "      <td>2</td>\n",
       "      <td>-80.8</td>\n",
       "      <td>35.0</td>\n",
       "      <td>Wedge</td>\n",
       "      <td>nan</td>\n",
       "    </tr>\n",
       "  </tbody>\n",
       "</table>\n",
       "<p>2 rows × 79 columns</p>\n",
       "</div>"
      ],
      "text/plain": [
       "   OID_  FID_Parcels  map_book  map_page map_block  lot_num      nc_pin  \\\n",
       "0     1          149       221         3         2       40  4438072484   \n",
       "1     2         1960       229        37         2       95  4456981804   \n",
       "\n",
       "   condo_town_flag  parcel_type       pid  ... Total_Households  \\\n",
       "0              0.0          0.0  22103240  ...              0.0   \n",
       "1              0.0          0.0  22937295  ...              0.0   \n",
       "\n",
       "  Median_Household_Income TotalFamilies  FamiliesInPoverty FamilyPovertyRate  \\\n",
       "0                     0.0           0.0                0.0               0.0   \n",
       "1                     0.0           0.0                0.0               0.0   \n",
       "\n",
       "  ORIG_FID  POINT_X POINT_Y    Divide  Age  \n",
       "0        1    -80.9    35.1  Crescent 42.0  \n",
       "1        2    -80.8    35.0     Wedge  nan  \n",
       "\n",
       "[2 rows x 79 columns]"
      ]
     },
     "execution_count": 9,
     "metadata": {},
     "output_type": "execute_result"
    }
   ],
   "source": [
    "housing = housing.assign(Age = 2020 - housing[\"yearbuilt\"])\n",
    "housing = housing.drop(columns = [\"yearbuilt\"] )\n",
    "housing.head(2)"
   ]
  },
  {
   "cell_type": "markdown",
   "metadata": {},
   "source": [
    "###  Drop unwanted columns "
   ]
  },
  {
   "cell_type": "code",
   "execution_count": 10,
   "metadata": {},
   "outputs": [],
   "source": [
    "housing = housing.drop(columns = ['FULL_ADDRESS','OID_', 'ORIG_FID','city','mailaddr1',\n",
    "                'map_block','map_book','map_page','municipality','ownerlastname','ownerfirstname','ownertype','parcel_type',\n",
    "                'pid','state','stdir','stname','stsuffix','sttype','taxfire', 'accounttype','descbuildingtype',\n",
    "                'propertyusecode', 'netbldgvalue', 'extravaluefeature','landvalue','totalvalue',\n",
    "                'lot_num','nc_pin','legal_from','commonpid','taxpid','houseno','cardno','deedbook','deedpage','legalreference',\n",
    "                'neighbourhood','parlegaldesc','landsequenceno', 'FamilyPovertyRate', 'Total_Households', 'FamiliesInPoverty', 'FID_Parcels',\n",
    "                'TotalFamilies','typeofdeed','taxmun','landusecode', 'physicaldepcode', 'ownerno','codemunicipality','zipcode',\n",
    "                'vacantorimproved','foundation','extwall','ownerno','TotalFamilies','FID_HHincome','codemunicipality',\n",
    "                'condo_town_flag','cdebuilding','actype', 'cdebuilding', 'aheatingtype', 'fireplaces' ])\n"
   ]
  },
  {
   "cell_type": "code",
   "execution_count": 11,
   "metadata": {
    "scrolled": false
   },
   "outputs": [
    {
     "data": {
      "text/plain": [
       "Index(['totalac', 'dateofsale', 'price', 'heatedarea', 'storyheight',\n",
       "       'heatedfuel', 'numfireplaces', 'bldggrade', 'fullbaths', 'halfbaths',\n",
       "       'bedrooms', 'units', 'descpropertyuse', 'Median_Household_Income',\n",
       "       'POINT_X', 'POINT_Y', 'Divide', 'Age'],\n",
       "      dtype='object')"
      ]
     },
     "execution_count": 11,
     "metadata": {},
     "output_type": "execute_result"
    }
   ],
   "source": [
    "housing.columns"
   ]
  },
  {
   "cell_type": "markdown",
   "metadata": {},
   "source": [
    "### Check statistics for each of the variable"
   ]
  },
  {
   "cell_type": "code",
   "execution_count": 12,
   "metadata": {},
   "outputs": [
    {
     "data": {
      "text/html": [
       "<div>\n",
       "<style scoped>\n",
       "    .dataframe tbody tr th:only-of-type {\n",
       "        vertical-align: middle;\n",
       "    }\n",
       "\n",
       "    .dataframe tbody tr th {\n",
       "        vertical-align: top;\n",
       "    }\n",
       "\n",
       "    .dataframe thead th {\n",
       "        text-align: right;\n",
       "    }\n",
       "</style>\n",
       "<table border=\"1\" class=\"dataframe\">\n",
       "  <thead>\n",
       "    <tr style=\"text-align: right;\">\n",
       "      <th></th>\n",
       "      <th>totalac</th>\n",
       "      <th>dateofsale</th>\n",
       "      <th>price</th>\n",
       "      <th>heatedarea</th>\n",
       "      <th>storyheight</th>\n",
       "      <th>heatedfuel</th>\n",
       "      <th>numfireplaces</th>\n",
       "      <th>bldggrade</th>\n",
       "      <th>fullbaths</th>\n",
       "      <th>halfbaths</th>\n",
       "      <th>bedrooms</th>\n",
       "      <th>units</th>\n",
       "      <th>descpropertyuse</th>\n",
       "      <th>Median_Household_Income</th>\n",
       "      <th>POINT_X</th>\n",
       "      <th>POINT_Y</th>\n",
       "      <th>Divide</th>\n",
       "      <th>Age</th>\n",
       "    </tr>\n",
       "  </thead>\n",
       "  <tbody>\n",
       "    <tr>\n",
       "      <td>0</td>\n",
       "      <td>0.6</td>\n",
       "      <td>2/12/2007 0:00:00</td>\n",
       "      <td>11000.0</td>\n",
       "      <td>680.0</td>\n",
       "      <td>1 STORY</td>\n",
       "      <td>ELECTRIC</td>\n",
       "      <td>0.0</td>\n",
       "      <td>AVERAGE</td>\n",
       "      <td>0.0</td>\n",
       "      <td>2.0</td>\n",
       "      <td>0.0</td>\n",
       "      <td>0.0</td>\n",
       "      <td>Office</td>\n",
       "      <td>0.0</td>\n",
       "      <td>-80.9</td>\n",
       "      <td>35.1</td>\n",
       "      <td>Crescent</td>\n",
       "      <td>42.0</td>\n",
       "    </tr>\n",
       "    <tr>\n",
       "      <td>1</td>\n",
       "      <td>9.0</td>\n",
       "      <td>5/2/1996 0:00:00</td>\n",
       "      <td>0.0</td>\n",
       "      <td>nan</td>\n",
       "      <td>NaN</td>\n",
       "      <td>NaN</td>\n",
       "      <td>nan</td>\n",
       "      <td>NaN</td>\n",
       "      <td>nan</td>\n",
       "      <td>nan</td>\n",
       "      <td>nan</td>\n",
       "      <td>nan</td>\n",
       "      <td>NaN</td>\n",
       "      <td>0.0</td>\n",
       "      <td>-80.8</td>\n",
       "      <td>35.0</td>\n",
       "      <td>Wedge</td>\n",
       "      <td>nan</td>\n",
       "    </tr>\n",
       "  </tbody>\n",
       "</table>\n",
       "</div>"
      ],
      "text/plain": [
       "   totalac         dateofsale   price  heatedarea storyheight heatedfuel  \\\n",
       "0      0.6  2/12/2007 0:00:00 11000.0       680.0     1 STORY   ELECTRIC   \n",
       "1      9.0   5/2/1996 0:00:00     0.0         nan         NaN        NaN   \n",
       "\n",
       "   numfireplaces bldggrade  fullbaths  halfbaths  bedrooms  units  \\\n",
       "0            0.0   AVERAGE        0.0        2.0       0.0    0.0   \n",
       "1            nan       NaN        nan        nan       nan    nan   \n",
       "\n",
       "  descpropertyuse  Median_Household_Income  POINT_X  POINT_Y    Divide  Age  \n",
       "0          Office                      0.0    -80.9     35.1  Crescent 42.0  \n",
       "1             NaN                      0.0    -80.8     35.0     Wedge  nan  "
      ]
     },
     "execution_count": 12,
     "metadata": {},
     "output_type": "execute_result"
    }
   ],
   "source": [
    "housing.head(2)"
   ]
  },
  {
   "cell_type": "code",
   "execution_count": 13,
   "metadata": {},
   "outputs": [],
   "source": [
    "housing = housing.dropna()"
   ]
  },
  {
   "cell_type": "code",
   "execution_count": 14,
   "metadata": {
    "scrolled": false
   },
   "outputs": [
    {
     "data": {
      "text/html": [
       "<div>\n",
       "<style scoped>\n",
       "    .dataframe tbody tr th:only-of-type {\n",
       "        vertical-align: middle;\n",
       "    }\n",
       "\n",
       "    .dataframe tbody tr th {\n",
       "        vertical-align: top;\n",
       "    }\n",
       "\n",
       "    .dataframe thead th {\n",
       "        text-align: right;\n",
       "    }\n",
       "</style>\n",
       "<table border=\"1\" class=\"dataframe\">\n",
       "  <thead>\n",
       "    <tr style=\"text-align: right;\">\n",
       "      <th></th>\n",
       "      <th>count</th>\n",
       "      <th>mean</th>\n",
       "      <th>std</th>\n",
       "      <th>min</th>\n",
       "      <th>25%</th>\n",
       "      <th>50%</th>\n",
       "      <th>75%</th>\n",
       "      <th>max</th>\n",
       "    </tr>\n",
       "  </thead>\n",
       "  <tbody>\n",
       "    <tr>\n",
       "      <td>totalac</td>\n",
       "      <td>273677.0</td>\n",
       "      <td>3.4</td>\n",
       "      <td>229.1</td>\n",
       "      <td>0.0</td>\n",
       "      <td>0.0</td>\n",
       "      <td>0.0</td>\n",
       "      <td>0.2</td>\n",
       "      <td>44649.0</td>\n",
       "    </tr>\n",
       "    <tr>\n",
       "      <td>price</td>\n",
       "      <td>273677.0</td>\n",
       "      <td>262400.2</td>\n",
       "      <td>1640709.4</td>\n",
       "      <td>0.0</td>\n",
       "      <td>72000.0</td>\n",
       "      <td>159000.0</td>\n",
       "      <td>275000.0</td>\n",
       "      <td>455500000.0</td>\n",
       "    </tr>\n",
       "    <tr>\n",
       "      <td>heatedarea</td>\n",
       "      <td>273677.0</td>\n",
       "      <td>2801.8</td>\n",
       "      <td>11089.2</td>\n",
       "      <td>0.0</td>\n",
       "      <td>1388.0</td>\n",
       "      <td>1896.0</td>\n",
       "      <td>2684.0</td>\n",
       "      <td>1365840.0</td>\n",
       "    </tr>\n",
       "    <tr>\n",
       "      <td>numfireplaces</td>\n",
       "      <td>273677.0</td>\n",
       "      <td>0.8</td>\n",
       "      <td>2.1</td>\n",
       "      <td>0.0</td>\n",
       "      <td>1.0</td>\n",
       "      <td>1.0</td>\n",
       "      <td>1.0</td>\n",
       "      <td>320.0</td>\n",
       "    </tr>\n",
       "    <tr>\n",
       "      <td>fullbaths</td>\n",
       "      <td>273677.0</td>\n",
       "      <td>2.0</td>\n",
       "      <td>1.2</td>\n",
       "      <td>0.0</td>\n",
       "      <td>2.0</td>\n",
       "      <td>2.0</td>\n",
       "      <td>2.0</td>\n",
       "      <td>309.0</td>\n",
       "    </tr>\n",
       "    <tr>\n",
       "      <td>halfbaths</td>\n",
       "      <td>273677.0</td>\n",
       "      <td>0.6</td>\n",
       "      <td>1.2</td>\n",
       "      <td>0.0</td>\n",
       "      <td>0.0</td>\n",
       "      <td>1.0</td>\n",
       "      <td>1.0</td>\n",
       "      <td>308.0</td>\n",
       "    </tr>\n",
       "    <tr>\n",
       "      <td>bedrooms</td>\n",
       "      <td>273677.0</td>\n",
       "      <td>3.1</td>\n",
       "      <td>1.2</td>\n",
       "      <td>0.0</td>\n",
       "      <td>3.0</td>\n",
       "      <td>3.0</td>\n",
       "      <td>4.0</td>\n",
       "      <td>240.0</td>\n",
       "    </tr>\n",
       "    <tr>\n",
       "      <td>units</td>\n",
       "      <td>273677.0</td>\n",
       "      <td>1.4</td>\n",
       "      <td>9.4</td>\n",
       "      <td>0.0</td>\n",
       "      <td>1.0</td>\n",
       "      <td>1.0</td>\n",
       "      <td>1.0</td>\n",
       "      <td>694.0</td>\n",
       "    </tr>\n",
       "    <tr>\n",
       "      <td>Median_Household_Income</td>\n",
       "      <td>273677.0</td>\n",
       "      <td>80379.0</td>\n",
       "      <td>40351.3</td>\n",
       "      <td>0.0</td>\n",
       "      <td>50938.0</td>\n",
       "      <td>73563.0</td>\n",
       "      <td>101169.0</td>\n",
       "      <td>250000.0</td>\n",
       "    </tr>\n",
       "    <tr>\n",
       "      <td>POINT_X</td>\n",
       "      <td>273677.0</td>\n",
       "      <td>-80.8</td>\n",
       "      <td>0.1</td>\n",
       "      <td>-81.1</td>\n",
       "      <td>-80.9</td>\n",
       "      <td>-80.8</td>\n",
       "      <td>-80.8</td>\n",
       "      <td>-80.6</td>\n",
       "    </tr>\n",
       "    <tr>\n",
       "      <td>POINT_Y</td>\n",
       "      <td>273677.0</td>\n",
       "      <td>35.2</td>\n",
       "      <td>0.1</td>\n",
       "      <td>35.0</td>\n",
       "      <td>35.1</td>\n",
       "      <td>35.2</td>\n",
       "      <td>35.3</td>\n",
       "      <td>35.5</td>\n",
       "    </tr>\n",
       "    <tr>\n",
       "      <td>Age</td>\n",
       "      <td>273677.0</td>\n",
       "      <td>33.6</td>\n",
       "      <td>21.6</td>\n",
       "      <td>1.0</td>\n",
       "      <td>18.0</td>\n",
       "      <td>28.0</td>\n",
       "      <td>48.0</td>\n",
       "      <td>230.0</td>\n",
       "    </tr>\n",
       "  </tbody>\n",
       "</table>\n",
       "</div>"
      ],
      "text/plain": [
       "                           count     mean       std   min     25%      50%  \\\n",
       "totalac                 273677.0      3.4     229.1   0.0     0.0      0.0   \n",
       "price                   273677.0 262400.2 1640709.4   0.0 72000.0 159000.0   \n",
       "heatedarea              273677.0   2801.8   11089.2   0.0  1388.0   1896.0   \n",
       "numfireplaces           273677.0      0.8       2.1   0.0     1.0      1.0   \n",
       "fullbaths               273677.0      2.0       1.2   0.0     2.0      2.0   \n",
       "halfbaths               273677.0      0.6       1.2   0.0     0.0      1.0   \n",
       "bedrooms                273677.0      3.1       1.2   0.0     3.0      3.0   \n",
       "units                   273677.0      1.4       9.4   0.0     1.0      1.0   \n",
       "Median_Household_Income 273677.0  80379.0   40351.3   0.0 50938.0  73563.0   \n",
       "POINT_X                 273677.0    -80.8       0.1 -81.1   -80.9    -80.8   \n",
       "POINT_Y                 273677.0     35.2       0.1  35.0    35.1     35.2   \n",
       "Age                     273677.0     33.6      21.6   1.0    18.0     28.0   \n",
       "\n",
       "                             75%         max  \n",
       "totalac                      0.2     44649.0  \n",
       "price                   275000.0 455500000.0  \n",
       "heatedarea                2684.0   1365840.0  \n",
       "numfireplaces                1.0       320.0  \n",
       "fullbaths                    2.0       309.0  \n",
       "halfbaths                    1.0       308.0  \n",
       "bedrooms                     4.0       240.0  \n",
       "units                        1.0       694.0  \n",
       "Median_Household_Income 101169.0    250000.0  \n",
       "POINT_X                    -80.8       -80.6  \n",
       "POINT_Y                     35.3        35.5  \n",
       "Age                         48.0       230.0  "
      ]
     },
     "execution_count": 14,
     "metadata": {},
     "output_type": "execute_result"
    }
   ],
   "source": [
    "housing.describe().transpose() "
   ]
  },
  {
   "cell_type": "code",
   "execution_count": 15,
   "metadata": {},
   "outputs": [],
   "source": [
    "cleandata = (housing.isnull().sum()/len(housing))*100\n",
    "#cleandata"
   ]
  },
  {
   "cell_type": "code",
   "execution_count": null,
   "metadata": {},
   "outputs": [],
   "source": []
  },
  {
   "cell_type": "markdown",
   "metadata": {},
   "source": [
    "### Review and convert categorical variables"
   ]
  },
  {
   "cell_type": "code",
   "execution_count": 16,
   "metadata": {},
   "outputs": [],
   "source": [
    "#housing "
   ]
  },
  {
   "cell_type": "code",
   "execution_count": 17,
   "metadata": {},
   "outputs": [
    {
     "data": {
      "text/plain": [
       "storyheight\n",
       "                    24\n",
       "1 STORY         107717\n",
       "1.5 STORY        16244\n",
       "2.0 STORY       130469\n",
       "2.5 STORY         9267\n",
       "3.0 STORY           66\n",
       ">=4.0 STORY          4\n",
       "A-FRAME             11\n",
       "BI-LEVEL          1030\n",
       "CAPE COD           140\n",
       "RANCH W/BSMT      2239\n",
       "SPLIT LEVEL       6466\n",
       "dtype: int64"
      ]
     },
     "execution_count": 17,
     "metadata": {},
     "output_type": "execute_result"
    }
   ],
   "source": [
    " housing.groupby(\"storyheight\").size()"
   ]
  },
  {
   "cell_type": "code",
   "execution_count": 18,
   "metadata": {
    "scrolled": true
   },
   "outputs": [],
   "source": [
    "## Rename GOOD 06 as GOOD\n",
    "housing.bldggrade[housing.bldggrade == \"GOOD 06\"] = \"GOOD\"\n",
    "\n",
    "## Rename Blank story height as 1 STORY\n",
    "\n",
    "housing.storyheight[housing.storyheight == \" \"] = \"1 STORY\""
   ]
  },
  {
   "cell_type": "markdown",
   "metadata": {},
   "source": [
    "#### Use Label Encoder to Convert Catetgorical variable to numeric"
   ]
  },
  {
   "cell_type": "code",
   "execution_count": 19,
   "metadata": {},
   "outputs": [
    {
     "data": {
      "text/html": [
       "<div>\n",
       "<style scoped>\n",
       "    .dataframe tbody tr th:only-of-type {\n",
       "        vertical-align: middle;\n",
       "    }\n",
       "\n",
       "    .dataframe tbody tr th {\n",
       "        vertical-align: top;\n",
       "    }\n",
       "\n",
       "    .dataframe thead th {\n",
       "        text-align: right;\n",
       "    }\n",
       "</style>\n",
       "<table border=\"1\" class=\"dataframe\">\n",
       "  <thead>\n",
       "    <tr style=\"text-align: right;\">\n",
       "      <th></th>\n",
       "      <th>totalac</th>\n",
       "      <th>dateofsale</th>\n",
       "      <th>price</th>\n",
       "      <th>heatedarea</th>\n",
       "      <th>storyheight</th>\n",
       "      <th>heatedfuel</th>\n",
       "      <th>numfireplaces</th>\n",
       "      <th>bldggrade</th>\n",
       "      <th>fullbaths</th>\n",
       "      <th>halfbaths</th>\n",
       "      <th>...</th>\n",
       "      <th>descpropertyuse</th>\n",
       "      <th>Median_Household_Income</th>\n",
       "      <th>POINT_X</th>\n",
       "      <th>POINT_Y</th>\n",
       "      <th>Divide</th>\n",
       "      <th>Age</th>\n",
       "      <th>Divide_transformed</th>\n",
       "      <th>bldggrade_transformed</th>\n",
       "      <th>heatedfuel_transformed</th>\n",
       "      <th>storyheight_transformed</th>\n",
       "    </tr>\n",
       "  </thead>\n",
       "  <tbody>\n",
       "    <tr>\n",
       "      <td>0</td>\n",
       "      <td>0.6</td>\n",
       "      <td>2/12/2007 0:00:00</td>\n",
       "      <td>11000.0</td>\n",
       "      <td>680.0</td>\n",
       "      <td>1 STORY</td>\n",
       "      <td>ELECTRIC</td>\n",
       "      <td>0.0</td>\n",
       "      <td>AVERAGE</td>\n",
       "      <td>0.0</td>\n",
       "      <td>2.0</td>\n",
       "      <td>...</td>\n",
       "      <td>Office</td>\n",
       "      <td>0.0</td>\n",
       "      <td>-80.9</td>\n",
       "      <td>35.1</td>\n",
       "      <td>Crescent</td>\n",
       "      <td>42.0</td>\n",
       "      <td>0</td>\n",
       "      <td>0</td>\n",
       "      <td>1</td>\n",
       "      <td>0</td>\n",
       "    </tr>\n",
       "    <tr>\n",
       "      <td>7</td>\n",
       "      <td>0.0</td>\n",
       "      <td>2/28/2017 0:00:00</td>\n",
       "      <td>215000.0</td>\n",
       "      <td>1998.0</td>\n",
       "      <td>SPLIT LEVEL</td>\n",
       "      <td>GAS</td>\n",
       "      <td>1.0</td>\n",
       "      <td>AVERAGE</td>\n",
       "      <td>3.0</td>\n",
       "      <td>0.0</td>\n",
       "      <td>...</td>\n",
       "      <td>Single-Family</td>\n",
       "      <td>0.0</td>\n",
       "      <td>-80.9</td>\n",
       "      <td>35.0</td>\n",
       "      <td>Wedge</td>\n",
       "      <td>26.0</td>\n",
       "      <td>1</td>\n",
       "      <td>0</td>\n",
       "      <td>2</td>\n",
       "      <td>10</td>\n",
       "    </tr>\n",
       "    <tr>\n",
       "      <td>13</td>\n",
       "      <td>0.3</td>\n",
       "      <td>2/4/2002 0:00:00</td>\n",
       "      <td>120000.0</td>\n",
       "      <td>1664.0</td>\n",
       "      <td>2.0 STORY</td>\n",
       "      <td>ELECTRIC</td>\n",
       "      <td>1.0</td>\n",
       "      <td>AVERAGE</td>\n",
       "      <td>2.0</td>\n",
       "      <td>1.0</td>\n",
       "      <td>...</td>\n",
       "      <td>Single-Family</td>\n",
       "      <td>0.0</td>\n",
       "      <td>-80.9</td>\n",
       "      <td>35.1</td>\n",
       "      <td>Wedge</td>\n",
       "      <td>33.0</td>\n",
       "      <td>1</td>\n",
       "      <td>0</td>\n",
       "      <td>1</td>\n",
       "      <td>2</td>\n",
       "    </tr>\n",
       "    <tr>\n",
       "      <td>14</td>\n",
       "      <td>0.2</td>\n",
       "      <td>8/1/2012 0:00:00</td>\n",
       "      <td>190000.0</td>\n",
       "      <td>2256.0</td>\n",
       "      <td>1 STORY</td>\n",
       "      <td>GAS</td>\n",
       "      <td>1.0</td>\n",
       "      <td>AVERAGE</td>\n",
       "      <td>2.0</td>\n",
       "      <td>0.0</td>\n",
       "      <td>...</td>\n",
       "      <td>Single-Family</td>\n",
       "      <td>0.0</td>\n",
       "      <td>-81.0</td>\n",
       "      <td>35.1</td>\n",
       "      <td>Crescent</td>\n",
       "      <td>8.0</td>\n",
       "      <td>0</td>\n",
       "      <td>0</td>\n",
       "      <td>2</td>\n",
       "      <td>0</td>\n",
       "    </tr>\n",
       "    <tr>\n",
       "      <td>18</td>\n",
       "      <td>4.4</td>\n",
       "      <td>5/17/2013 0:00:00</td>\n",
       "      <td>340000.0</td>\n",
       "      <td>2668.0</td>\n",
       "      <td>1 STORY</td>\n",
       "      <td>ELECTRIC</td>\n",
       "      <td>1.0</td>\n",
       "      <td>GOOD</td>\n",
       "      <td>2.0</td>\n",
       "      <td>1.0</td>\n",
       "      <td>...</td>\n",
       "      <td>Single-Family</td>\n",
       "      <td>0.0</td>\n",
       "      <td>-81.0</td>\n",
       "      <td>35.1</td>\n",
       "      <td>Wedge</td>\n",
       "      <td>17.0</td>\n",
       "      <td>1</td>\n",
       "      <td>4</td>\n",
       "      <td>1</td>\n",
       "      <td>0</td>\n",
       "    </tr>\n",
       "    <tr>\n",
       "      <td>...</td>\n",
       "      <td>...</td>\n",
       "      <td>...</td>\n",
       "      <td>...</td>\n",
       "      <td>...</td>\n",
       "      <td>...</td>\n",
       "      <td>...</td>\n",
       "      <td>...</td>\n",
       "      <td>...</td>\n",
       "      <td>...</td>\n",
       "      <td>...</td>\n",
       "      <td>...</td>\n",
       "      <td>...</td>\n",
       "      <td>...</td>\n",
       "      <td>...</td>\n",
       "      <td>...</td>\n",
       "      <td>...</td>\n",
       "      <td>...</td>\n",
       "      <td>...</td>\n",
       "      <td>...</td>\n",
       "      <td>...</td>\n",
       "      <td>...</td>\n",
       "    </tr>\n",
       "    <tr>\n",
       "      <td>427731</td>\n",
       "      <td>0.0</td>\n",
       "      <td>4/24/2020 0:00:00</td>\n",
       "      <td>108000.0</td>\n",
       "      <td>937.0</td>\n",
       "      <td>2.0 STORY</td>\n",
       "      <td>GAS</td>\n",
       "      <td>0.0</td>\n",
       "      <td>AVERAGE</td>\n",
       "      <td>2.0</td>\n",
       "      <td>1.0</td>\n",
       "      <td>...</td>\n",
       "      <td>Condo/Townhome</td>\n",
       "      <td>31250.0</td>\n",
       "      <td>-80.8</td>\n",
       "      <td>35.3</td>\n",
       "      <td>Crescent</td>\n",
       "      <td>19.0</td>\n",
       "      <td>0</td>\n",
       "      <td>0</td>\n",
       "      <td>2</td>\n",
       "      <td>2</td>\n",
       "    </tr>\n",
       "    <tr>\n",
       "      <td>427732</td>\n",
       "      <td>0.0</td>\n",
       "      <td>3/13/2014 0:00:00</td>\n",
       "      <td>52500.0</td>\n",
       "      <td>930.0</td>\n",
       "      <td>2.0 STORY</td>\n",
       "      <td>GAS</td>\n",
       "      <td>0.0</td>\n",
       "      <td>AVERAGE</td>\n",
       "      <td>2.0</td>\n",
       "      <td>1.0</td>\n",
       "      <td>...</td>\n",
       "      <td>Condo/Townhome</td>\n",
       "      <td>31250.0</td>\n",
       "      <td>-80.8</td>\n",
       "      <td>35.3</td>\n",
       "      <td>Crescent</td>\n",
       "      <td>19.0</td>\n",
       "      <td>0</td>\n",
       "      <td>0</td>\n",
       "      <td>2</td>\n",
       "      <td>2</td>\n",
       "    </tr>\n",
       "    <tr>\n",
       "      <td>427733</td>\n",
       "      <td>0.0</td>\n",
       "      <td>1/19/2017 0:00:00</td>\n",
       "      <td>70000.0</td>\n",
       "      <td>945.0</td>\n",
       "      <td>2.0 STORY</td>\n",
       "      <td>GAS</td>\n",
       "      <td>0.0</td>\n",
       "      <td>AVERAGE</td>\n",
       "      <td>2.0</td>\n",
       "      <td>1.0</td>\n",
       "      <td>...</td>\n",
       "      <td>Condo/Townhome</td>\n",
       "      <td>31250.0</td>\n",
       "      <td>-80.8</td>\n",
       "      <td>35.3</td>\n",
       "      <td>Crescent</td>\n",
       "      <td>19.0</td>\n",
       "      <td>0</td>\n",
       "      <td>0</td>\n",
       "      <td>2</td>\n",
       "      <td>2</td>\n",
       "    </tr>\n",
       "    <tr>\n",
       "      <td>427734</td>\n",
       "      <td>0.0</td>\n",
       "      <td>4/4/2002 0:00:00</td>\n",
       "      <td>92500.0</td>\n",
       "      <td>930.0</td>\n",
       "      <td>2.0 STORY</td>\n",
       "      <td>GAS</td>\n",
       "      <td>0.0</td>\n",
       "      <td>AVERAGE</td>\n",
       "      <td>2.0</td>\n",
       "      <td>1.0</td>\n",
       "      <td>...</td>\n",
       "      <td>Condo/Townhome</td>\n",
       "      <td>31250.0</td>\n",
       "      <td>-80.8</td>\n",
       "      <td>35.3</td>\n",
       "      <td>Crescent</td>\n",
       "      <td>19.0</td>\n",
       "      <td>0</td>\n",
       "      <td>0</td>\n",
       "      <td>2</td>\n",
       "      <td>2</td>\n",
       "    </tr>\n",
       "    <tr>\n",
       "      <td>427735</td>\n",
       "      <td>0.0</td>\n",
       "      <td>1/8/2002 0:00:00</td>\n",
       "      <td>92500.0</td>\n",
       "      <td>937.0</td>\n",
       "      <td>2.0 STORY</td>\n",
       "      <td>GAS</td>\n",
       "      <td>0.0</td>\n",
       "      <td>AVERAGE</td>\n",
       "      <td>2.0</td>\n",
       "      <td>1.0</td>\n",
       "      <td>...</td>\n",
       "      <td>Condo/Townhome</td>\n",
       "      <td>31250.0</td>\n",
       "      <td>-80.8</td>\n",
       "      <td>35.3</td>\n",
       "      <td>Crescent</td>\n",
       "      <td>19.0</td>\n",
       "      <td>0</td>\n",
       "      <td>0</td>\n",
       "      <td>2</td>\n",
       "      <td>2</td>\n",
       "    </tr>\n",
       "  </tbody>\n",
       "</table>\n",
       "<p>273677 rows × 22 columns</p>\n",
       "</div>"
      ],
      "text/plain": [
       "        totalac         dateofsale    price  heatedarea  storyheight  \\\n",
       "0           0.6  2/12/2007 0:00:00  11000.0       680.0      1 STORY   \n",
       "7           0.0  2/28/2017 0:00:00 215000.0      1998.0  SPLIT LEVEL   \n",
       "13          0.3   2/4/2002 0:00:00 120000.0      1664.0    2.0 STORY   \n",
       "14          0.2   8/1/2012 0:00:00 190000.0      2256.0      1 STORY   \n",
       "18          4.4  5/17/2013 0:00:00 340000.0      2668.0      1 STORY   \n",
       "...         ...                ...      ...         ...          ...   \n",
       "427731      0.0  4/24/2020 0:00:00 108000.0       937.0    2.0 STORY   \n",
       "427732      0.0  3/13/2014 0:00:00  52500.0       930.0    2.0 STORY   \n",
       "427733      0.0  1/19/2017 0:00:00  70000.0       945.0    2.0 STORY   \n",
       "427734      0.0   4/4/2002 0:00:00  92500.0       930.0    2.0 STORY   \n",
       "427735      0.0   1/8/2002 0:00:00  92500.0       937.0    2.0 STORY   \n",
       "\n",
       "       heatedfuel  numfireplaces bldggrade  fullbaths  halfbaths  ...  \\\n",
       "0        ELECTRIC            0.0   AVERAGE        0.0        2.0  ...   \n",
       "7             GAS            1.0   AVERAGE        3.0        0.0  ...   \n",
       "13       ELECTRIC            1.0   AVERAGE        2.0        1.0  ...   \n",
       "14            GAS            1.0   AVERAGE        2.0        0.0  ...   \n",
       "18       ELECTRIC            1.0      GOOD        2.0        1.0  ...   \n",
       "...           ...            ...       ...        ...        ...  ...   \n",
       "427731        GAS            0.0   AVERAGE        2.0        1.0  ...   \n",
       "427732        GAS            0.0   AVERAGE        2.0        1.0  ...   \n",
       "427733        GAS            0.0   AVERAGE        2.0        1.0  ...   \n",
       "427734        GAS            0.0   AVERAGE        2.0        1.0  ...   \n",
       "427735        GAS            0.0   AVERAGE        2.0        1.0  ...   \n",
       "\n",
       "        descpropertyuse  Median_Household_Income POINT_X  POINT_Y    Divide  \\\n",
       "0                Office                      0.0   -80.9     35.1  Crescent   \n",
       "7         Single-Family                      0.0   -80.9     35.0     Wedge   \n",
       "13        Single-Family                      0.0   -80.9     35.1     Wedge   \n",
       "14        Single-Family                      0.0   -81.0     35.1  Crescent   \n",
       "18        Single-Family                      0.0   -81.0     35.1     Wedge   \n",
       "...                 ...                      ...     ...      ...       ...   \n",
       "427731   Condo/Townhome                  31250.0   -80.8     35.3  Crescent   \n",
       "427732   Condo/Townhome                  31250.0   -80.8     35.3  Crescent   \n",
       "427733   Condo/Townhome                  31250.0   -80.8     35.3  Crescent   \n",
       "427734   Condo/Townhome                  31250.0   -80.8     35.3  Crescent   \n",
       "427735   Condo/Townhome                  31250.0   -80.8     35.3  Crescent   \n",
       "\n",
       "        Age Divide_transformed  bldggrade_transformed  heatedfuel_transformed  \\\n",
       "0      42.0                  0                      0                       1   \n",
       "7      26.0                  1                      0                       2   \n",
       "13     33.0                  1                      0                       1   \n",
       "14      8.0                  0                      0                       2   \n",
       "18     17.0                  1                      4                       1   \n",
       "...     ...                ...                    ...                     ...   \n",
       "427731 19.0                  0                      0                       2   \n",
       "427732 19.0                  0                      0                       2   \n",
       "427733 19.0                  0                      0                       2   \n",
       "427734 19.0                  0                      0                       2   \n",
       "427735 19.0                  0                      0                       2   \n",
       "\n",
       "        storyheight_transformed  \n",
       "0                             0  \n",
       "7                            10  \n",
       "13                            2  \n",
       "14                            0  \n",
       "18                            0  \n",
       "...                         ...  \n",
       "427731                        2  \n",
       "427732                        2  \n",
       "427733                        2  \n",
       "427734                        2  \n",
       "427735                        2  \n",
       "\n",
       "[273677 rows x 22 columns]"
      ]
     },
     "execution_count": 19,
     "metadata": {},
     "output_type": "execute_result"
    }
   ],
   "source": [
    "Labelencoder = LabelEncoder()\n",
    "\n",
    "housing['Divide_transformed'] = Labelencoder.fit_transform(housing[\"Divide\"])\n",
    "housing['bldggrade_transformed'] = Labelencoder.fit_transform(housing[\"bldggrade\"])\n",
    "housing['heatedfuel_transformed'] = Labelencoder.fit_transform(housing[\"heatedfuel\"])\n",
    "housing['storyheight_transformed'] = Labelencoder.fit_transform(housing[\"storyheight\"])\n",
    "housing\n"
   ]
  },
  {
   "cell_type": "code",
   "execution_count": 20,
   "metadata": {},
   "outputs": [],
   "source": [
    "# ## Covert divide to 1 and 0, Crescent = 1, Wedge = 0\n",
    "# housing.Divide[housing.Divide == \"Crescent\"] = 1\n",
    "# housing.Divide[housing.Divide == \"Wedge\"] = 0\n",
    "\n",
    "# ###Convert building grade \n",
    "# housing.bldggrade[housing.bldggrade == \"AVERAGE\"] = 1\n",
    "# housing.bldggrade[housing.bldggrade == \"CUSTOM\"] = 2\n",
    "# housing.bldggrade[housing.bldggrade == \"EXCELLENT\"] = 3\n",
    "# housing.bldggrade[housing.bldggrade == \"FAIR\"] = 4\n",
    "# housing.bldggrade[housing.bldggrade == \"GOOD\"] = 5\n",
    "# housing.bldggrade[housing.bldggrade == \"GOOD 06\"] = 5\n",
    "# housing.bldggrade[housing.bldggrade == \"MINIMUM\"] = 6\n",
    "# housing.bldggrade[housing.bldggrade == \"VERY GOOD\"] = 7\n",
    "\n",
    "# ##convert heated fuel\n",
    "# housing.heatedfuel[housing.heatedfuel == \"ELECTRIC\"] = 1\n",
    "# housing.heatedfuel[housing.heatedfuel == \"GAS\"] = 2 \n",
    "# housing.heatedfuel[housing.heatedfuel == \"NONE\"] = 3\n",
    "# housing.heatedfuel[housing.heatedfuel == \" \"] = 3\n",
    "# housing.heatedfuel[housing.heatedfuel == \"OIL/WD/COAL\"] = 4\n",
    "# housing.heatedfuel[housing.heatedfuel == \"SOLAR/GEOTHRM\"] = 5"
   ]
  },
  {
   "cell_type": "code",
   "execution_count": 21,
   "metadata": {},
   "outputs": [
    {
     "data": {
      "text/plain": [
       "descpropertyuse\n",
       "                      29\n",
       "Commercial          2029\n",
       "Condo/Townhome     38611\n",
       "Govt-Inst            884\n",
       "Hotel/Motel          182\n",
       "Manufactured         970\n",
       "Multi-Family         886\n",
       "Office              2824\n",
       "Single-Family     224207\n",
       "StadiumArena           3\n",
       "Warehouse           3042\n",
       "Warehouse Lg          10\n",
       "dtype: int64"
      ]
     },
     "execution_count": 21,
     "metadata": {},
     "output_type": "execute_result"
    }
   ],
   "source": [
    " housing.groupby(\"descpropertyuse\").size()"
   ]
  },
  {
   "cell_type": "markdown",
   "metadata": {},
   "source": [
    "### We are only interested in single family, Multi family, Condos, and Townhomes"
   ]
  },
  {
   "cell_type": "code",
   "execution_count": 22,
   "metadata": {},
   "outputs": [],
   "source": [
    "### Filter Single Family, Multi Family and Condos \n",
    "\n",
    "singlefamily = housing[housing[\"descpropertyuse\"] == \"Single-Family\"] \n",
    "multifamily = housing[housing[\"descpropertyuse\"] == \"Multi-Family\"] \n",
    "Condo = housing[housing[\"descpropertyuse\"] == \"Condo/Townhome\"] \n",
    "\n",
    "housing = pd.concat([singlefamily,multifamily,Condo], axis = 0)"
   ]
  },
  {
   "cell_type": "code",
   "execution_count": 23,
   "metadata": {},
   "outputs": [
    {
     "data": {
      "image/png": "[encoded data removed]",
      "text/plain": [
       "<Figure size 864x648 with 2 Axes>"
      ]
     },
     "metadata": {
      "needs_background": "light"
     },
     "output_type": "display_data"
    }
   ],
   "source": [
    "corrmat = housing.corr()\n",
    "f, ax = plt.subplots(figsize=(12, 9))\n",
    "sns.heatmap(corrmat,vmax=0.9, square=True,fmt= '.2f',annot_kws={'size': 10})\n",
    "plt.show();"
   ]
  },
  {
   "cell_type": "code",
   "execution_count": 24,
   "metadata": {},
   "outputs": [
    {
     "data": {
      "text/plain": [
       "Index(['totalac', 'dateofsale', 'price', 'heatedarea', 'storyheight',\n",
       "       'heatedfuel', 'numfireplaces', 'bldggrade', 'fullbaths', 'halfbaths',\n",
       "       'bedrooms', 'units', 'descpropertyuse', 'Median_Household_Income',\n",
       "       'POINT_X', 'POINT_Y', 'Divide', 'Age', 'Divide_transformed',\n",
       "       'bldggrade_transformed', 'heatedfuel_transformed',\n",
       "       'storyheight_transformed'],\n",
       "      dtype='object')"
      ]
     },
     "execution_count": 24,
     "metadata": {},
     "output_type": "execute_result"
    }
   ],
   "source": [
    "housing.columns"
   ]
  },
  {
   "cell_type": "code",
   "execution_count": 25,
   "metadata": {},
   "outputs": [
    {
     "data": {
      "text/html": [
       "<div>\n",
       "<style scoped>\n",
       "    .dataframe tbody tr th:only-of-type {\n",
       "        vertical-align: middle;\n",
       "    }\n",
       "\n",
       "    .dataframe tbody tr th {\n",
       "        vertical-align: top;\n",
       "    }\n",
       "\n",
       "    .dataframe thead th {\n",
       "        text-align: right;\n",
       "    }\n",
       "</style>\n",
       "<table border=\"1\" class=\"dataframe\">\n",
       "  <thead>\n",
       "    <tr style=\"text-align: right;\">\n",
       "      <th></th>\n",
       "      <th>totalac</th>\n",
       "      <th>dateofsale</th>\n",
       "      <th>price</th>\n",
       "      <th>heatedarea</th>\n",
       "      <th>numfireplaces</th>\n",
       "      <th>fullbaths</th>\n",
       "      <th>halfbaths</th>\n",
       "      <th>bedrooms</th>\n",
       "      <th>units</th>\n",
       "      <th>Median_Household_Income</th>\n",
       "      <th>POINT_X</th>\n",
       "      <th>POINT_Y</th>\n",
       "      <th>Age</th>\n",
       "      <th>Divide_transformed</th>\n",
       "      <th>bldggrade_transformed</th>\n",
       "      <th>heatedfuel_transformed</th>\n",
       "      <th>storyheight_transformed</th>\n",
       "    </tr>\n",
       "  </thead>\n",
       "  <tbody>\n",
       "    <tr>\n",
       "      <td>7</td>\n",
       "      <td>0.0</td>\n",
       "      <td>2/28/2017 0:00:00</td>\n",
       "      <td>215000.0</td>\n",
       "      <td>1998.0</td>\n",
       "      <td>1.0</td>\n",
       "      <td>3.0</td>\n",
       "      <td>0.0</td>\n",
       "      <td>4.0</td>\n",
       "      <td>1.0</td>\n",
       "      <td>0.0</td>\n",
       "      <td>-80.9</td>\n",
       "      <td>35.0</td>\n",
       "      <td>26.0</td>\n",
       "      <td>1</td>\n",
       "      <td>0</td>\n",
       "      <td>2</td>\n",
       "      <td>10</td>\n",
       "    </tr>\n",
       "    <tr>\n",
       "      <td>13</td>\n",
       "      <td>0.3</td>\n",
       "      <td>2/4/2002 0:00:00</td>\n",
       "      <td>120000.0</td>\n",
       "      <td>1664.0</td>\n",
       "      <td>1.0</td>\n",
       "      <td>2.0</td>\n",
       "      <td>1.0</td>\n",
       "      <td>3.0</td>\n",
       "      <td>1.0</td>\n",
       "      <td>0.0</td>\n",
       "      <td>-80.9</td>\n",
       "      <td>35.1</td>\n",
       "      <td>33.0</td>\n",
       "      <td>1</td>\n",
       "      <td>0</td>\n",
       "      <td>1</td>\n",
       "      <td>2</td>\n",
       "    </tr>\n",
       "    <tr>\n",
       "      <td>14</td>\n",
       "      <td>0.2</td>\n",
       "      <td>8/1/2012 0:00:00</td>\n",
       "      <td>190000.0</td>\n",
       "      <td>2256.0</td>\n",
       "      <td>1.0</td>\n",
       "      <td>2.0</td>\n",
       "      <td>0.0</td>\n",
       "      <td>3.0</td>\n",
       "      <td>1.0</td>\n",
       "      <td>0.0</td>\n",
       "      <td>-81.0</td>\n",
       "      <td>35.1</td>\n",
       "      <td>8.0</td>\n",
       "      <td>0</td>\n",
       "      <td>0</td>\n",
       "      <td>2</td>\n",
       "      <td>0</td>\n",
       "    </tr>\n",
       "    <tr>\n",
       "      <td>18</td>\n",
       "      <td>4.4</td>\n",
       "      <td>5/17/2013 0:00:00</td>\n",
       "      <td>340000.0</td>\n",
       "      <td>2668.0</td>\n",
       "      <td>1.0</td>\n",
       "      <td>2.0</td>\n",
       "      <td>1.0</td>\n",
       "      <td>3.0</td>\n",
       "      <td>1.0</td>\n",
       "      <td>0.0</td>\n",
       "      <td>-81.0</td>\n",
       "      <td>35.1</td>\n",
       "      <td>17.0</td>\n",
       "      <td>1</td>\n",
       "      <td>4</td>\n",
       "      <td>1</td>\n",
       "      <td>0</td>\n",
       "    </tr>\n",
       "    <tr>\n",
       "      <td>20</td>\n",
       "      <td>0.2</td>\n",
       "      <td>7/31/2020 0:00:00</td>\n",
       "      <td>325000.0</td>\n",
       "      <td>2856.0</td>\n",
       "      <td>1.0</td>\n",
       "      <td>2.0</td>\n",
       "      <td>1.0</td>\n",
       "      <td>4.0</td>\n",
       "      <td>1.0</td>\n",
       "      <td>0.0</td>\n",
       "      <td>-81.0</td>\n",
       "      <td>35.1</td>\n",
       "      <td>7.0</td>\n",
       "      <td>0</td>\n",
       "      <td>0</td>\n",
       "      <td>2</td>\n",
       "      <td>2</td>\n",
       "    </tr>\n",
       "  </tbody>\n",
       "</table>\n",
       "</div>"
      ],
      "text/plain": [
       "    totalac         dateofsale    price  heatedarea  numfireplaces  fullbaths  \\\n",
       "7       0.0  2/28/2017 0:00:00 215000.0      1998.0            1.0        3.0   \n",
       "13      0.3   2/4/2002 0:00:00 120000.0      1664.0            1.0        2.0   \n",
       "14      0.2   8/1/2012 0:00:00 190000.0      2256.0            1.0        2.0   \n",
       "18      4.4  5/17/2013 0:00:00 340000.0      2668.0            1.0        2.0   \n",
       "20      0.2  7/31/2020 0:00:00 325000.0      2856.0            1.0        2.0   \n",
       "\n",
       "    halfbaths  bedrooms  units  Median_Household_Income  POINT_X  POINT_Y  \\\n",
       "7         0.0       4.0    1.0                      0.0    -80.9     35.0   \n",
       "13        1.0       3.0    1.0                      0.0    -80.9     35.1   \n",
       "14        0.0       3.0    1.0                      0.0    -81.0     35.1   \n",
       "18        1.0       3.0    1.0                      0.0    -81.0     35.1   \n",
       "20        1.0       4.0    1.0                      0.0    -81.0     35.1   \n",
       "\n",
       "    Age  Divide_transformed  bldggrade_transformed  heatedfuel_transformed  \\\n",
       "7  26.0                   1                      0                       2   \n",
       "13 33.0                   1                      0                       1   \n",
       "14  8.0                   0                      0                       2   \n",
       "18 17.0                   1                      4                       1   \n",
       "20  7.0                   0                      0                       2   \n",
       "\n",
       "    storyheight_transformed  \n",
       "7                        10  \n",
       "13                        2  \n",
       "14                        0  \n",
       "18                        0  \n",
       "20                        2  "
      ]
     },
     "execution_count": 25,
     "metadata": {},
     "output_type": "execute_result"
    }
   ],
   "source": [
    "### Delete original columns for building grade, Divide, heatedfuel and storyheight\n",
    "housing = housing.drop(columns = ['bldggrade', 'heatedfuel', \"Divide\",'descpropertyuse', 'storyheight'] )\n",
    "housing.head() "
   ]
  },
  {
   "cell_type": "code",
   "execution_count": 26,
   "metadata": {},
   "outputs": [
    {
     "data": {
      "text/plain": [
       "Index(['totalac', 'dateofsale', 'price', 'heatedarea', 'numfireplaces',\n",
       "       'fullbaths', 'halfbaths', 'bedrooms', 'units',\n",
       "       'Median_Household_Income', 'POINT_X', 'POINT_Y', 'Age',\n",
       "       'Divide_transformed', 'bldggrade_transformed', 'heatedfuel_transformed',\n",
       "       'storyheight_transformed'],\n",
       "      dtype='object')"
      ]
     },
     "execution_count": 26,
     "metadata": {},
     "output_type": "execute_result"
    }
   ],
   "source": [
    "housing.columns"
   ]
  },
  {
   "cell_type": "code",
   "execution_count": 27,
   "metadata": {},
   "outputs": [
    {
     "data": {
      "text/plain": [
       "totalac                    int64\n",
       "price                      int64\n",
       "heatedarea                 int64\n",
       "numfireplaces              int64\n",
       "fullbaths                  int64\n",
       "halfbaths                  int64\n",
       "bedrooms                   int64\n",
       "units                      int64\n",
       "Median_Household_Income    int64\n",
       "POINT_X                    int64\n",
       "POINT_Y                    int64\n",
       "Age                        int64\n",
       "Divide_transformed         int64\n",
       "bldggrade_transformed      int64\n",
       "heatedfuel_transformed     int64\n",
       "dtype: object"
      ]
     },
     "execution_count": 27,
     "metadata": {},
     "output_type": "execute_result"
    }
   ],
   "source": [
    "housing = housing.loc[:, ('totalac', 'price', 'heatedarea', 'numfireplaces',\n",
    "       'fullbaths', 'halfbaths', 'bedrooms', 'units',\n",
    "       'Median_Household_Income', 'POINT_X', 'POINT_Y', 'Age', 'Divide_transformed',\n",
    "       'bldggrade_transformed', 'heatedfuel_transformed')]. apply(np.int64)\n",
    "housing.dtypes"
   ]
  },
  {
   "cell_type": "code",
   "execution_count": 28,
   "metadata": {},
   "outputs": [
    {
     "data": {
      "text/plain": [
       "totalac                    int64\n",
       "price                      int64\n",
       "heatedarea                 int64\n",
       "numfireplaces              int64\n",
       "fullbaths                  int64\n",
       "halfbaths                  int64\n",
       "bedrooms                   int64\n",
       "units                      int64\n",
       "Median_Household_Income    int64\n",
       "POINT_X                    int64\n",
       "POINT_Y                    int64\n",
       "Age                        int64\n",
       "Divide_transformed         int64\n",
       "bldggrade_transformed      int64\n",
       "heatedfuel_transformed     int64\n",
       "dtype: object"
      ]
     },
     "execution_count": 28,
     "metadata": {},
     "output_type": "execute_result"
    }
   ],
   "source": [
    "housing.dtypes"
   ]
  },
  {
   "cell_type": "code",
   "execution_count": 29,
   "metadata": {},
   "outputs": [
    {
     "data": {
      "text/plain": [
       "<function seaborn.utils.despine(fig=None, ax=None, top=True, right=True, left=False, bottom=False, offset=None, trim=False)>"
      ]
     },
     "execution_count": 29,
     "metadata": {},
     "output_type": "execute_result"
    },
    {
     "data": {
      "image/png": "[encoded data removed]",
      "text/plain": [
       "<Figure size 432x288 with 1 Axes>"
      ]
     },
     "metadata": {
      "needs_background": "light"
     },
     "output_type": "display_data"
    }
   ],
   "source": [
    "housing['Divide_transformed'].value_counts().plot(kind='bar')\n",
    "plt.title('Geographic Variation')\n",
    "plt.xlabel('Divide')\n",
    "plt.ylabel('Count')\n",
    "sns.despine"
   ]
  },
  {
   "cell_type": "markdown",
   "metadata": {},
   "source": [
    "### Preprocessing "
   ]
  },
  {
   "cell_type": "markdown",
   "metadata": {},
   "source": [
    "#### Geographical Split"
   ]
  },
  {
   "cell_type": "code",
   "execution_count": 30,
   "metadata": {},
   "outputs": [
    {
     "data": {
      "text/plain": [
       "((65719, 15), (197985, 15))"
      ]
     },
     "execution_count": 30,
     "metadata": {},
     "output_type": "execute_result"
    }
   ],
   "source": [
    "### Geographical split - Split geography into two areas using the code  \n",
    "Crescent = housing[housing[\"Divide_transformed\"] == 0] \n",
    "Wedge =  housing[housing[\"Divide_transformed\"] == 1]  # how to sample from two groups. Stratified sampling \n",
    "Crescent.shape, Wedge.shape"
   ]
  },
  {
   "cell_type": "code",
   "execution_count": 31,
   "metadata": {},
   "outputs": [],
   "source": [
    "geosplit=housing[\"Divide_transformed\"] "
   ]
  },
  {
   "cell_type": "code",
   "execution_count": 32,
   "metadata": {},
   "outputs": [
    {
     "data": {
      "text/plain": [
       "(263704, 15)"
      ]
     },
     "execution_count": 32,
     "metadata": {},
     "output_type": "execute_result"
    }
   ],
   "source": [
    "housing.shape"
   ]
  },
  {
   "cell_type": "code",
   "execution_count": 33,
   "metadata": {},
   "outputs": [
    {
     "data": {
      "text/html": [
       "<div>\n",
       "<style scoped>\n",
       "    .dataframe tbody tr th:only-of-type {\n",
       "        vertical-align: middle;\n",
       "    }\n",
       "\n",
       "    .dataframe tbody tr th {\n",
       "        vertical-align: top;\n",
       "    }\n",
       "\n",
       "    .dataframe thead th {\n",
       "        text-align: right;\n",
       "    }\n",
       "</style>\n",
       "<table border=\"1\" class=\"dataframe\">\n",
       "  <thead>\n",
       "    <tr style=\"text-align: right;\">\n",
       "      <th></th>\n",
       "      <th>totalac</th>\n",
       "      <th>price</th>\n",
       "      <th>heatedarea</th>\n",
       "      <th>numfireplaces</th>\n",
       "      <th>fullbaths</th>\n",
       "      <th>halfbaths</th>\n",
       "      <th>bedrooms</th>\n",
       "      <th>units</th>\n",
       "      <th>Median_Household_Income</th>\n",
       "      <th>POINT_X</th>\n",
       "      <th>POINT_Y</th>\n",
       "      <th>Age</th>\n",
       "      <th>Divide_transformed</th>\n",
       "      <th>bldggrade_transformed</th>\n",
       "      <th>heatedfuel_transformed</th>\n",
       "    </tr>\n",
       "  </thead>\n",
       "  <tbody>\n",
       "    <tr>\n",
       "      <td>7</td>\n",
       "      <td>0</td>\n",
       "      <td>215000</td>\n",
       "      <td>1998</td>\n",
       "      <td>1</td>\n",
       "      <td>3</td>\n",
       "      <td>0</td>\n",
       "      <td>4</td>\n",
       "      <td>1</td>\n",
       "      <td>0</td>\n",
       "      <td>-80</td>\n",
       "      <td>35</td>\n",
       "      <td>26</td>\n",
       "      <td>1</td>\n",
       "      <td>0</td>\n",
       "      <td>2</td>\n",
       "    </tr>\n",
       "  </tbody>\n",
       "</table>\n",
       "</div>"
      ],
      "text/plain": [
       "   totalac   price  heatedarea  numfireplaces  fullbaths  halfbaths  bedrooms  \\\n",
       "7        0  215000        1998              1          3          0         4   \n",
       "\n",
       "   units  Median_Household_Income  POINT_X  POINT_Y  Age  Divide_transformed  \\\n",
       "7      1                        0      -80       35   26                   1   \n",
       "\n",
       "   bldggrade_transformed  heatedfuel_transformed  \n",
       "7                      0                       2  "
      ]
     },
     "execution_count": 33,
     "metadata": {},
     "output_type": "execute_result"
    }
   ],
   "source": [
    "housing.head(1)"
   ]
  },
  {
   "cell_type": "code",
   "execution_count": null,
   "metadata": {},
   "outputs": [],
   "source": []
  },
  {
   "cell_type": "code",
   "execution_count": 34,
   "metadata": {},
   "outputs": [],
   "source": [
    "#housing_t= housing['price']\n",
    "#housing_t=housing_t.values.reshape(-1,1)\n",
    "#housing_x=housing.drop(['price'],axis=1)"
   ]
  },
  {
   "cell_type": "code",
   "execution_count": 35,
   "metadata": {},
   "outputs": [],
   "source": [
    "#from sklearn.model_selection import train_test_split\n",
    "#housing_train, housing_test, housingprice_train, housingprice_test = train_test_split(housing_x,housing_t, test_size=0.2, random_state=40,stratify=geosplit)"
   ]
  },
  {
   "cell_type": "code",
   "execution_count": 36,
   "metadata": {},
   "outputs": [],
   "source": [
    "from sklearn.model_selection import train_test_split\n",
    "housing_train, housing_test = train_test_split(housing, test_size=0.2, random_state=40,stratify=geosplit)"
   ]
  },
  {
   "cell_type": "code",
   "execution_count": 37,
   "metadata": {},
   "outputs": [
    {
     "data": {
      "text/plain": [
       "(210963, 15)"
      ]
     },
     "execution_count": 37,
     "metadata": {},
     "output_type": "execute_result"
    }
   ],
   "source": [
    "housing_train.shape"
   ]
  },
  {
   "cell_type": "code",
   "execution_count": 38,
   "metadata": {},
   "outputs": [
    {
     "data": {
      "text/plain": [
       "(52741, 15)"
      ]
     },
     "execution_count": 38,
     "metadata": {},
     "output_type": "execute_result"
    }
   ],
   "source": [
    "housing_test.shape"
   ]
  },
  {
   "cell_type": "code",
   "execution_count": 39,
   "metadata": {},
   "outputs": [],
   "source": [
    "# ### Normalise \n",
    "\n",
    "# X_train = np.array(X_train)\n",
    "# X_test = np.array(X_test)\n",
    "# X_train_scale = preprocessing.normalize(X_train)\n",
    "# X_test_scale =  preprocessing.normalize(X_test)\n",
    "\n",
    "# X_train_scale.shape, X_test_scale.shape"
   ]
  },
  {
   "cell_type": "code",
   "execution_count": 40,
   "metadata": {},
   "outputs": [
    {
     "data": {
      "image/png": "[encoded data removed]",
      "text/plain": [
       "<Figure size 432x288 with 1 Axes>"
      ]
     },
     "metadata": {
      "needs_background": "light"
     },
     "output_type": "display_data"
    },
    {
     "data": {
      "image/png": "[encoded data removed]",
      "text/plain": [
       "<Figure size 432x288 with 1 Axes>"
      ]
     },
     "metadata": {
      "needs_background": "light"
     },
     "output_type": "display_data"
    },
    {
     "name": "stdout",
     "output_type": "stream",
     "text": [
      "skewness: 60.446039\n",
      "kurtosis: 5151.616807\n"
     ]
    }
   ],
   "source": [
    "# kernel density plot\n",
    "sns.distplot(housing.price,fit=norm);\n",
    "plt.ylabel =('Frequency')\n",
    "plt.title = ('Price Distribution');\n",
    "#Get the fitted parameters used by the function\n",
    "(mu, sigma) = norm.fit(housing['price']);\n",
    "#QQ plot\n",
    "fig = plt.figure()\n",
    "res = stats.probplot(housing['price'], plot=plt)\n",
    "plt.show()\n",
    "print(\"skewness: %f\" % housing['price'].skew())\n",
    "print(\"kurtosis: %f\" % housing['price'].kurt())"
   ]
  },
  {
   "cell_type": "code",
   "execution_count": 41,
   "metadata": {},
   "outputs": [
    {
     "data": {
      "text/plain": [
       "'\\nX_train=housing_train\\n\\nscaler = RobustScaler()\\nX_train[X_train.columns] = scaler.fit_transform(X_train[X_train.columns]) #scale data\\nX_train\\n'"
      ]
     },
     "execution_count": 41,
     "metadata": {},
     "output_type": "execute_result"
    }
   ],
   "source": [
    "#Scale features \n",
    "'''\n",
    "X_train=housing_train\n",
    "\n",
    "scaler = RobustScaler()\n",
    "X_train[X_train.columns] = scaler.fit_transform(X_train[X_train.columns]) #scale data\n",
    "X_train\n",
    "'''"
   ]
  },
  {
   "cell_type": "code",
   "execution_count": 42,
   "metadata": {},
   "outputs": [],
   "source": [
    "housing_test = housing_test[housing_test['price']!=0].drop('POINT_Y', axis=1)\n",
    "housing_train = housing_train[housing_train['price']!=0].drop('POINT_Y',axis=1)"
   ]
  },
  {
   "cell_type": "markdown",
   "metadata": {},
   "source": [
    "### Neural Network "
   ]
  },
  {
   "cell_type": "code",
   "execution_count": 43,
   "metadata": {},
   "outputs": [],
   "source": [
    "import tensorflow as tf\n",
    "from tensorflow import keras\n",
    "from tensorflow.keras import layers\n",
    "from tensorflow.keras.layers.experimental import preprocessing\n",
    "from sklearn.preprocessing import RobustScaler\n",
    "from sklearn.model_selection import KFold\n",
    "from tensorflow.keras.layers.experimental import preprocessing\n",
    "normalizer = preprocessing.Normalization()"
   ]
  },
  {
   "cell_type": "code",
   "execution_count": 44,
   "metadata": {},
   "outputs": [],
   "source": [
    "def build_and_compile_model(norm):\n",
    "    model = keras.Sequential([\n",
    "      norm,\n",
    "      layers.Dense(64, activation='relu'),\n",
    "      layers.Dense(64, activation='relu'),\n",
    "      layers.Dense(1)\n",
    "    ])                    # two hidden layers with 64 nodes \n",
    "\n",
    "    model.compile(loss='mean_absolute_error',\n",
    "                optimizer=tf.keras.optimizers.Adam(0.1))\n",
    "    return model\n",
    "\n",
    "\n",
    "def plot_loss(history):\n",
    "    plt.plot(history.history['loss'], label='loss')\n",
    "    plt.plot(history.history['val_loss'], label='val_loss')\n",
    "\n",
    "\n",
    " \n",
    "    plt.grid(True)"
   ]
  },
  {
   "cell_type": "code",
   "execution_count": null,
   "metadata": {},
   "outputs": [],
   "source": []
  },
  {
   "cell_type": "code",
   "execution_count": 45,
   "metadata": {},
   "outputs": [],
   "source": [
    "def neuralnetwork(train, test):\n",
    "    \n",
    "    train_dataset = train\n",
    "    test_dataset = test\n",
    "    \n",
    "    train_features = train_dataset.copy()\n",
    "    test_features = test_dataset.copy()\n",
    "    \n",
    "    train_labels = train_features.pop('price')\n",
    "    test_labels = test_features.pop('price')\n",
    "    \n",
    "    \n",
    "    normalizer = preprocessing.Normalization()\n",
    "    normalizer.adapt(np.array(train_features))\n",
    "    dnn_model = build_and_compile_model(normalizer)\n",
    "    \n",
    "    history = dnn_model.fit(\n",
    "        train_features, train_labels,\n",
    "      validation_split=0.2,\n",
    "        verbose=1, epochs=10)   # here you can change epochs\n",
    "    \n",
    "    plot_loss(history)"
   ]
  },
  {
   "cell_type": "code",
   "execution_count": 46,
   "metadata": {},
   "outputs": [
    {
     "name": "stdout",
     "output_type": "stream",
     "text": [
      "Epoch 1/10\n",
      "4384/4384 [==============================] - 3s 706us/step - loss: 102505.8750 - val_loss: 98485.5547\n",
      "Epoch 2/10\n",
      "4384/4384 [==============================] - 3s 633us/step - loss: 96822.2422 - val_loss: 98606.8203\n",
      "Epoch 3/10\n",
      "4384/4384 [==============================] - 3s 739us/step - loss: 95082.5859 - val_loss: 97352.7734\n",
      "Epoch 4/10\n",
      "4384/4384 [==============================] - 4s 874us/step - loss: 95229.2656 - val_loss: 96383.9453\n",
      "Epoch 5/10\n",
      "4384/4384 [==============================] - 4s 845us/step - loss: 94783.0547 - val_loss: 95430.3281\n",
      "Epoch 6/10\n",
      "4384/4384 [==============================] - 4s 888us/step - loss: 94737.5938 - val_loss: 93363.7266\n",
      "Epoch 7/10\n",
      "4384/4384 [==============================] - 4s 917us/step - loss: 94335.6406 - val_loss: 93697.9453\n",
      "Epoch 8/10\n",
      "4384/4384 [==============================] - 4s 1ms/step - loss: 93787.4766 - val_loss: 93424.1484\n",
      "Epoch 9/10\n",
      "4384/4384 [==============================] - 4s 999us/step - loss: 92840.9375 - val_loss: 98786.0938\n",
      "Epoch 10/10\n",
      "4384/4384 [==============================] - 3s 732us/step - loss: 92759.3672 - val_loss: 91392.3516\n"
     ]
    },
    {
     "data": {
      "image/png": "[encoded data removed]",
      "text/plain": [
       "<Figure size 432x288 with 1 Axes>"
      ]
     },
     "metadata": {
      "needs_background": "light"
     },
     "output_type": "display_data"
    }
   ],
   "source": [
    "neuralnetwork(housing_train, housing_test)"
   ]
  },
  {
   "cell_type": "code",
   "execution_count": 47,
   "metadata": {},
   "outputs": [
    {
     "data": {
      "image/png": "[encoded data removed]",
      "text/plain": [
       "<Figure size 432x288 with 1 Axes>"
      ]
     },
     "metadata": {
      "needs_background": "light"
     },
     "output_type": "display_data"
    }
   ],
   "source": [
    "train_features = housing_train.copy()\n",
    "test_features = housing_test.copy()\n",
    "\n",
    "#Separate Features from labels\n",
    "train_labels = train_features.pop('price')\n",
    "test_labels = test_features.pop('price')\n",
    "\n",
    "#housing_train, housing_test\n",
    "normalizer = preprocessing.Normalization()\n",
    "normalizer.adapt(np.array(train_features))\n",
    "dnn_model = build_and_compile_model(normalizer)\n",
    "\n",
    "\n",
    "test_predictions = dnn_model.predict(test_features).flatten()\n",
    "\n",
    "a = plt.axes(aspect='equal')\n",
    "plt.scatter(test_labels[:100], test_predictions[:100])\n",
    "plt.xlabel('True Values [Price]')\n",
    "#plt.ylabel('Predictions [Price]')\n",
    "lims = [0, 1000000]\n",
    "plt.xlim(lims)\n",
    "plt.ylim(lims)\n",
    "_ = plt.plot(lims, lims)"
   ]
  },
  {
   "cell_type": "code",
   "execution_count": 48,
   "metadata": {},
   "outputs": [
    {
     "ename": "SyntaxError",
     "evalue": "invalid syntax (<ipython-input-48-29e0c3615294>, line 1)",
     "output_type": "error",
     "traceback": [
      "\u001b[0;36m  File \u001b[0;32m\"<ipython-input-48-29e0c3615294>\"\u001b[0;36m, line \u001b[0;32m1\u001b[0m\n\u001b[0;31m    ---\u001b[0m\n\u001b[0m       ^\u001b[0m\n\u001b[0;31mSyntaxError\u001b[0m\u001b[0;31m:\u001b[0m invalid syntax\n"
     ]
    }
   ],
   "source": []
  },
  {
   "cell_type": "code",
   "execution_count": null,
   "metadata": {},
   "outputs": [],
   "source": []
  },
  {
   "cell_type": "code",
   "execution_count": null,
   "metadata": {},
   "outputs": [],
   "source": []
  },
  {
   "cell_type": "code",
   "execution_count": null,
   "metadata": {},
   "outputs": [],
   "source": []
  },
  {
   "cell_type": "code",
   "execution_count": null,
   "metadata": {},
   "outputs": [],
   "source": []
  },
  {
   "cell_type": "code",
   "execution_count": null,
   "metadata": {},
   "outputs": [],
   "source": []
  },
  {
   "cell_type": "code",
   "execution_count": null,
   "metadata": {},
   "outputs": [],
   "source": []
  },
  {
   "cell_type": "code",
   "execution_count": null,
   "metadata": {},
   "outputs": [],
   "source": []
  },
  {
   "cell_type": "code",
   "execution_count": null,
   "metadata": {},
   "outputs": [],
   "source": []
  },
  {
   "cell_type": "code",
   "execution_count": null,
   "metadata": {},
   "outputs": [],
   "source": []
  },
  {
   "cell_type": "code",
   "execution_count": null,
   "metadata": {},
   "outputs": [],
   "source": []
  },
  {
   "cell_type": "code",
   "execution_count": null,
   "metadata": {},
   "outputs": [],
   "source": []
  },
  {
   "cell_type": "markdown",
   "metadata": {},
   "source": [
    "### Random forest classifiers for geosplit "
   ]
  },
  {
   "cell_type": "code",
   "execution_count": 70,
   "metadata": {},
   "outputs": [
    {
     "name": "stderr",
     "output_type": "stream",
     "text": [
      "/opt/anaconda3/lib/python3.7/site-packages/ipykernel_launcher.py:14: DataConversionWarning: A column-vector y was passed when a 1d array was expected. Please change the shape of y to (n_samples,), for example using ravel().\n",
      "  \n"
     ]
    }
   ],
   "source": [
    "from sklearn.ensemble import RandomForestRegressor\n",
    "from sklearn.model_selection import train_test_split\n",
    "\n",
    "\n",
    "\n",
    "housing_t= housing['price']\n",
    "housing_t=housing_t.values.reshape(-1,1)\n",
    "housing_x=housing.drop(['price'],axis=1)\n",
    "\n",
    "housing_train, housing_test, housingprice_train, housingprice_test = train_test_split(housing_x,housing_t, test_size=0.2, random_state=40,stratify=geosplit)\n",
    "#X_train, X_test, y_train, y_test = train_test_split(X, y, test_size=0.1, random_state=42)\n",
    "\n",
    "model = RandomForestRegressor(n_estimators=100, random_state=42)\n",
    "his=model.fit(housing_train, housingprice_train)"
   ]
  },
  {
   "cell_type": "code",
   "execution_count": 76,
   "metadata": {},
   "outputs": [],
   "source": [
    "pred = model.predict(housing_test)\n"
   ]
  },
  {
   "cell_type": "code",
   "execution_count": 79,
   "metadata": {},
   "outputs": [],
   "source": [
    "pred_train = model.predict(housing_train)"
   ]
  },
  {
   "cell_type": "code",
   "execution_count": 78,
   "metadata": {},
   "outputs": [
    {
     "name": "stdout",
     "output_type": "stream",
     "text": [
      "Mean Absolute Error on test: 114556.95597450998\n"
     ]
    }
   ],
   "source": [
    "# Evaluating the Algorithm\n",
    "from sklearn import metrics\n",
    "print('Mean Absolute Error on test:', metrics.mean_absolute_error(housingprice_test, pred))  \n"
   ]
  },
  {
   "cell_type": "code",
   "execution_count": 80,
   "metadata": {},
   "outputs": [
    {
     "name": "stdout",
     "output_type": "stream",
     "text": [
      "Mean Absolute Error on train: 46551.9191632669\n"
     ]
    }
   ],
   "source": [
    "# Evaluating the Algorithm\n",
    "from sklearn import metrics\n",
    "print('Mean Absolute Error on train:', metrics.mean_absolute_error(housingprice_train, pred_train))  "
   ]
  },
  {
   "cell_type": "code",
   "execution_count": 84,
   "metadata": {},
   "outputs": [
    {
     "data": {
      "image/png": "[encoded data removed]",
      "text/plain": [
       "<Figure size 432x288 with 1 Axes>"
      ]
     },
     "metadata": {
      "needs_background": "light"
     },
     "output_type": "display_data"
    }
   ],
   "source": [
    "a = plt.axes(aspect='equal')\n",
    "plt.scatter(housingprice_test[:1000], pred[:1000])\n",
    "plt.xlabel('True Values [Price]')\n",
    "#plt.ylabel('Predictions [Price]')\n",
    "lims = [0, 1000000]\n",
    "plt.xlim(lims)\n",
    "plt.ylim(lims)\n",
    "_ = plt.plot(lims, lims)"
   ]
  },
  {
   "cell_type": "code",
   "execution_count": 1,
   "metadata": {},
   "outputs": [
    {
     "ename": "NameError",
     "evalue": "name 'his' is not defined",
     "output_type": "error",
     "traceback": [
      "\u001b[0;31m---------------------------------------------------------------------------\u001b[0m",
      "\u001b[0;31mNameError\u001b[0m                                 Traceback (most recent call last)",
      "\u001b[0;32m<ipython-input-1-e516a40de843>\u001b[0m in \u001b[0;36m<module>\u001b[0;34m\u001b[0m\n\u001b[1;32m      6\u001b[0m     \u001b[0mplt\u001b[0m\u001b[0;34m.\u001b[0m\u001b[0mlegend\u001b[0m\u001b[0;34m(\u001b[0m\u001b[0;34m)\u001b[0m\u001b[0;34m\u001b[0m\u001b[0;34m\u001b[0m\u001b[0m\n\u001b[1;32m      7\u001b[0m     \u001b[0mplt\u001b[0m\u001b[0;34m.\u001b[0m\u001b[0mgrid\u001b[0m\u001b[0;34m(\u001b[0m\u001b[0;32mTrue\u001b[0m\u001b[0;34m)\u001b[0m\u001b[0;34m\u001b[0m\u001b[0;34m\u001b[0m\u001b[0m\n\u001b[0;32m----> 8\u001b[0;31m \u001b[0mplot_loss\u001b[0m\u001b[0;34m(\u001b[0m\u001b[0mhis\u001b[0m\u001b[0;34m)\u001b[0m\u001b[0;34m\u001b[0m\u001b[0;34m\u001b[0m\u001b[0m\n\u001b[0m",
      "\u001b[0;31mNameError\u001b[0m: name 'his' is not defined"
     ]
    }
   ],
   "source": [
    "def plot_loss(history):\n",
    "    plt.plot(history.history['loss'], label='loss')\n",
    "    plt.plot(history.history['val_loss'], label='val_loss')\n",
    "    plt.xlabel('Epoch')\n",
    "    plt.ylabel('Error [Price]')\n",
    "    plt.legend()\n",
    "    plt.grid(True)\n",
    "plot_loss(his)\n"
   ]
  },
  {
   "cell_type": "code",
   "execution_count": null,
   "metadata": {},
   "outputs": [],
   "source": []
  }
 ],
 "metadata": {
  "kernelspec": {
   "display_name": "Python 3",
   "language": "python",
   "name": "python3"
  },
  "language_info": {
   "codemirror_mode": {
    "name": "ipython",
    "version": 3
   },
   "file_extension": ".py",
   "mimetype": "text/x-python",
   "name": "python",
   "nbconvert_exporter": "python",
   "pygments_lexer": "ipython3",
   "version": "3.7.4"
  }
 },
 "nbformat": 4,
 "nbformat_minor": 4
}
